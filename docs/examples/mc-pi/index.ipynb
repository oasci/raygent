{
 "cells": [
  {
   "cell_type": "markdown",
   "metadata": {},
   "source": [
    "# Monte Carlo Simulation for Estimating Pi\n",
    "\n",
    "Monte Carlo methods are widely used for numerical simulations, optimization problems, and probabilistic modeling.\n",
    "One of the classic problems that showcase the power of Monte Carlo simulations is estimating the value of π.\n",
    "\n",
    "The idea is simple: randomly generate points inside a square and count how many fall within a quarter-circle.\n",
    "The ratio of points inside the quarter-circle to the total number of points gives an approximation of π."
   ]
  },
  {
   "cell_type": "markdown",
   "metadata": {},
   "source": [
    "## Why Parallelization Helps\n",
    "\n",
    "Each experiment (random point generation and checking whether it falls inside the circle) is completely independent of the others. This makes it an ideal use case for parallelization since multiple workers can compute the results simultaneously without needing to communicate.\n",
    "\n",
    "By using `RayManager`, we can distribute the computation across multiple CPU cores, significantly improving performance compared to a sequential implementation."
   ]
  },
  {
   "cell_type": "markdown",
   "metadata": {},
   "source": [
    "## Define the Computational Task\n",
    "\n",
    "Each task generates a set of random points and counts how many land inside the quarter-circle. This logic is implemented in a `MonteCarloPiTask` class that extends `RayTask`."
   ]
  },
  {
   "cell_type": "code",
   "execution_count": null,
   "metadata": {},
   "outputs": [],
   "source": [
    "import random\n",
    "from raygent import RayTask\n",
    "\n",
    "class MonteCarloPiTask(RayTask):\n",
    "\n",
    "    def process_item(self, item: int) -> int:\n",
    "        \"\"\"Simulates a Monte Carlo experiment for estimating Pi.\n",
    "\n",
    "        Generates `num_samples` random points and counts how many fall inside the quarter-circle.\n",
    "        \"\"\"\n",
    "        inside_circle = 0\n",
    "        for _ in range(item):\n",
    "            x, y = random.uniform(0, 1), random.uniform(0, 1)\n",
    "            if x**2 + y**2 <= 1:\n",
    "                inside_circle += 1\n",
    "        return inside_circle"
   ]
  },
  {
   "cell_type": "markdown",
   "metadata": {},
   "source": [
    "Here, the method `process_item` takes an integer (a dummy input, as it’s only needed to trigger the computation), generates `num_samples` random points, and returns the count of points that landed inside the quarter-circle."
   ]
  },
  {
   "cell_type": "markdown",
   "metadata": {},
   "source": [
    "## Running the Task with `RayManager`\n",
    "\n",
    "To estimate π, we run multiple Monte Carlo simulations in parallel. Each task will generate `num_samples` points, and we will sum up the results from all workers to get the final estimate.\n"
   ]
  },
  {
   "cell_type": "code",
   "execution_count": 2,
   "metadata": {},
   "outputs": [],
   "source": [
    "from raygent import RayManager\n",
    "\n",
    "\n",
    "def estimate_pi(n_workers: int, samples_per_worker: int) -> float:\n",
    "    \"\"\"Estimates Pi using Monte Carlo simulation with parallel execution.\n",
    "\n",
    "    Args:\n",
    "        n_workers: Number of independent Monte Carlo simulations to run.\n",
    "        samples_per_worker: Number of points each worker will generate.\n",
    "\n",
    "    Returns:\n",
    "        float: Estimated value of π.\n",
    "    \"\"\"\n",
    "    manager = RayManager(MonteCarloPiTask, n_cores=n_workers, use_ray=True)\n",
    "\n",
    "    # We use `0` since tasks don't require input data\n",
    "    manager.submit_tasks(items=[samples_per_worker] * n_workers, at_once=False)\n",
    "    results = manager.get_results()\n",
    "\n",
    "    total_inside_circle = sum(results)\n",
    "    total_samples = samples_per_worker * n_workers\n",
    "\n",
    "    pi_estimate = (total_inside_circle / total_samples) * 4\n",
    "    return pi_estimate\n"
   ]
  },
  {
   "cell_type": "code",
   "execution_count": 3,
   "metadata": {},
   "outputs": [
    {
     "name": "stderr",
     "output_type": "stream",
     "text": [
      "2025-02-27 16:41:13,264\tINFO worker.py:1841 -- Started a local Ray instance.\n"
     ]
    },
    {
     "name": "stdout",
     "output_type": "stream",
     "text": [
      "Estimated π: 3.141148\n"
     ]
    }
   ],
   "source": [
    "# Example Usage\n",
    "estimated_pi = estimate_pi(n_workers=8, samples_per_worker=1_000_000)\n",
    "print(f\"Estimated π: {estimated_pi}\")"
   ]
  }
 ],
 "metadata": {
  "kernelspec": {
   "display_name": "dev",
   "language": "python",
   "name": "python3"
  },
  "language_info": {
   "codemirror_mode": {
    "name": "ipython",
    "version": 3
   },
   "file_extension": ".py",
   "mimetype": "text/x-python",
   "name": "python",
   "nbconvert_exporter": "python",
   "pygments_lexer": "ipython3",
   "version": "3.12.9"
  }
 },
 "nbformat": 4,
 "nbformat_minor": 2
}
