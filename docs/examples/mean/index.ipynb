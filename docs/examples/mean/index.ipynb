{
 "cells": [
  {
   "cell_type": "markdown",
   "metadata": {},
   "source": [
    "# Online, parallel means\n",
    "\n",
    "TODO:"
   ]
  },
  {
   "cell_type": "code",
   "execution_count": 1,
   "metadata": {},
   "outputs": [],
   "source": [
    "from typing import override\n",
    "\n",
    "import numpy as np\n",
    "import numpy.typing as npt"
   ]
  },
  {
   "cell_type": "code",
   "execution_count": 2,
   "metadata": {},
   "outputs": [],
   "source": [
    "np.random.seed(8947501)\n",
    "\n",
    "data = np.random.uniform(low=1, high=10_000, size=(10_000, 64, 64))"
   ]
  },
  {
   "cell_type": "code",
   "execution_count": 3,
   "metadata": {},
   "outputs": [
    {
     "name": "stdout",
     "output_type": "stream",
     "text": [
      "[[4979.06187109 5042.03419628 5007.30759842 ... 5027.53444031\n",
      "  5027.39917602 4988.98437983]\n",
      " [5004.40211044 4970.12877011 4974.80460791 ... 4987.42125333\n",
      "  5020.60978713 4974.83743075]\n",
      " [5015.70418641 4964.27107736 4989.80859755 ... 4977.72149064\n",
      "  5010.71360439 5037.07001349]\n",
      " ...\n",
      " [4959.73941289 4994.51878591 4988.9707429  ... 5038.30511538\n",
      "  5065.64332467 4979.81483695]\n",
      " [5013.08498048 4979.70225719 4998.08322856 ... 5004.07146257\n",
      "  5059.87903943 5005.13015452]\n",
      " [5027.95742434 5004.89616586 5021.97812961 ... 5015.61308805\n",
      "  5004.63068546 4987.04909058]]\n"
     ]
    }
   ],
   "source": [
    "mean_true = np.mean(data, axis=0)\n",
    "print(mean_true)"
   ]
  },
  {
   "cell_type": "code",
   "execution_count": null,
   "metadata": {},
   "outputs": [],
   "source": [
    "from raygent.task import Task\n",
    "from raygent.results import MeanResult\n",
    "\n",
    "\n",
    "class MeanTask(Task[MeanResult[npt.NDArray[np.float64]]]):\n",
    "    \"\"\"\n",
    "    A task that computes the element-wise partial mean of a batch of 2D NumPy arrays.\n",
    "\n",
    "    This task uses the batch processing method to compute the mean for all items in\n",
    "    the input list and returns a tuple containing: `(partial_mean, count)`.\n",
    "    where partial_mean is the element-wise mean computed over the batch, and count is\n",
    "    the number of observations in the batch.\n",
    "    \"\"\"\n",
    "\n",
    "    @override\n",
    "    def do(\n",
    "        self, batch: npt.NDArray[np.float64], *args: object, **kwargs: object\n",
    "    ) -> MeanResult[npt.NDArray[np.float64]]:\n",
    "        # Convert the list of 2D arrays into a single 3D NumPy array.\n",
    "        arr = np.array(batch, dtype=np.float64)\n",
    "        # Compute the element-wise mean over the first axis (i.e. across all observations).\n",
    "        partial_mean = np.mean(arr, axis=0)\n",
    "        # The count is the number of observations processed in this batch.\n",
    "        count = arr.shape[0]\n",
    "        return MeanResult(value=partial_mean, count=count)"
   ]
  },
  {
   "cell_type": "code",
   "execution_count": 5,
   "metadata": {},
   "outputs": [
    {
     "name": "stderr",
     "output_type": "stream",
     "text": [
      "2025-07-15 22:41:45,487\tINFO worker.py:1888 -- Started a local Ray instance.\n"
     ]
    },
    {
     "name": "stdout",
     "output_type": "stream",
     "text": [
      "Element-wise Mean:\n",
      "[[4979.06187109 5042.03419628 5007.30759842 ... 5027.53444031\n",
      "  5027.39917602 4988.98437983]\n",
      " [5004.40211044 4970.12877011 4974.80460791 ... 4987.42125333\n",
      "  5020.60978713 4974.83743075]\n",
      " [5015.70418641 4964.27107736 4989.80859755 ... 4977.72149064\n",
      "  5010.71360439 5037.07001349]\n",
      " ...\n",
      " [4959.73941289 4994.51878591 4988.9707429  ... 5038.30511538\n",
      "  5065.64332467 4979.81483695]\n",
      " [5013.08498048 4979.70225719 4998.08322856 ... 5004.07146257\n",
      "  5059.87903943 5005.13015452]\n",
      " [5027.95742434 5004.89616586 5021.97812961 ... 5015.61308805\n",
      "  5004.63068546 4987.04909058]]\n"
     ]
    }
   ],
   "source": [
    "from raygent.runner import TaskRunner\n",
    "\n",
    "\n",
    "from raygent.results.handlers import OnlineMeanResultsHandler\n",
    "\n",
    "runner = TaskRunner[\n",
    "    npt.NDArray[np.float64], OnlineMeanResultsHandler[npt.NDArray[np.float64]]\n",
    "](\n",
    "    task_cls=MeanTask,\n",
    "    handler_cls=OnlineMeanResultsHandler,\n",
    "    in_parallel=True,\n",
    "    n_cores=8,\n",
    "    n_cores_worker=1,\n",
    ")\n",
    "\n",
    "\n",
    "handler = runner.submit_tasks(data, batch_size=50)\n",
    "\n",
    "mean_parallel = handler.get().value\n",
    "\n",
    "print(\"Element-wise Mean:\")\n",
    "print(mean_parallel)"
   ]
  },
  {
   "cell_type": "code",
   "execution_count": 6,
   "metadata": {},
   "outputs": [
    {
     "name": "stdout",
     "output_type": "stream",
     "text": [
      "Parallel versus NumPy error\n",
      "5.517808432387028e-13\n"
     ]
    }
   ],
   "source": [
    "print(\"Parallel versus NumPy error\")\n",
    "print(np.mean(mean_parallel - mean_true))"
   ]
  }
 ],
 "metadata": {
  "kernelspec": {
   "display_name": "dev",
   "language": "python",
   "name": "python3"
  },
  "language_info": {
   "codemirror_mode": {
    "name": "ipython",
    "version": 3
   },
   "file_extension": ".py",
   "mimetype": "text/x-python",
   "name": "python",
   "nbconvert_exporter": "python",
   "pygments_lexer": "ipython3",
   "version": "3.12.9"
  }
 },
 "nbformat": 4,
 "nbformat_minor": 2
}
